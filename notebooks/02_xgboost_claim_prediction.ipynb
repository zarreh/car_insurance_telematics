{
 "cells": [
  {
   "cell_type": "markdown",
   "metadata": {},
   "source": [
    "# Car Insurance Telematics - Claim Probability Model\n",
    "\n",
    "**Notebook 2: XGBoost Classification with Optuna Optimization**\n",
    "\n",
    "This notebook develops a machine learning model to predict claim probability using telematics features.\n",
    "\n",
    "## Objectives:\n",
    "- Build XGBoost classification model for claim prediction\n",
    "- Optimize hyperparameters using Optuna\n",
    "- Evaluate model performance with cross-validation\n",
    "- Analyze feature importance\n",
    "- Generate business insights"
   ]
  },
  {
   "cell_type": "code",
   "execution_count": 1,
   "metadata": {},
   "outputs": [
    {
     "name": "stdout",
     "output_type": "stream",
     "text": [
      "XGBoost Claim Probability Model\n",
      "==================================================\n",
      "Timestamp: 2025-07-12 21:47:43\n"
     ]
    }
   ],
   "source": [
    "import pandas as pd\n",
    "import numpy as np\n",
    "import matplotlib.pyplot as plt\n",
    "import seaborn as sns\n",
    "import warnings\n",
    "warnings.filterwarnings('ignore')\n",
    "\n",
    "# Machine Learning\n",
    "import xgboost as xgb\n",
    "from sklearn.model_selection import StratifiedKFold, cross_val_score, train_test_split\n",
    "from sklearn.preprocessing import LabelEncoder, StandardScaler\n",
    "from sklearn.metrics import (classification_report, confusion_matrix, \n",
    "                           roc_auc_score, roc_curve, precision_recall_curve,\n",
    "                           f1_score, precision_score, recall_score, accuracy_score)\n",
    "\n",
    "# Hyperparameter optimization\n",
    "import optuna\n",
    "# from optuna.integration import XGBoostPruningCallback\n",
    "\n",
    "# Utilities\n",
    "import joblib\n",
    "from datetime import datetime\n",
    "import os\n",
    "\n",
    "# Set style\n",
    "plt.style.use('seaborn-v0_8')\n",
    "sns.set_palette(\"husl\")\n",
    "\n",
    "print(\"XGBoost Claim Probability Model\")\n",
    "print(\"=\" * 50)\n",
    "print(f\"Timestamp: {datetime.now().strftime('%Y-%m-%d %H:%M:%S')}\")"
   ]
  },
  {
   "cell_type": "markdown",
   "metadata": {},
   "source": [
    "## 1. Data Loading and Preparation"
   ]
  },
  {
   "cell_type": "code",
   "execution_count": 2,
   "metadata": {},
   "outputs": [
    {
     "name": "stdout",
     "output_type": "stream",
     "text": [
      "Dataset shape: (1200, 55)\n",
      "\n",
      "Dataset info:\n",
      "<class 'pandas.core.frame.DataFrame'>\n",
      "RangeIndex: 1200 entries, 0 to 1199\n",
      "Data columns (total 55 columns):\n",
      " #   Column                          Non-Null Count  Dtype  \n",
      "---  ------                          --------------  -----  \n",
      " 0   driver_id                       1200 non-null   object \n",
      " 1   total_trips                     1200 non-null   int64  \n",
      " 2   duration_minutes_mean           1200 non-null   float64\n",
      " 3   duration_minutes_std            1200 non-null   float64\n",
      " 4   total_driving_time_minutes      1200 non-null   float64\n",
      " 5   distance_miles_mean             1200 non-null   float64\n",
      " 6   distance_miles_std              1200 non-null   float64\n",
      " 7   total_distance_miles            1200 non-null   float64\n",
      " 8   average_speed_mph_mean          1200 non-null   float64\n",
      " 9   average_speed_mph_std           1200 non-null   float64\n",
      " 10  max_speed_mph_mean              1200 non-null   float64\n",
      " 11  max_speed_mph_max               1200 non-null   float64\n",
      " 12  harsh_braking_events_mean       1200 non-null   float64\n",
      " 13  harsh_braking_events_sum        1200 non-null   int64  \n",
      " 14  harsh_acceleration_events_mean  1200 non-null   float64\n",
      " 15  harsh_acceleration_events_sum   1200 non-null   int64  \n",
      " 16  sharp_cornering_events_mean     1200 non-null   float64\n",
      " 17  sharp_cornering_events_sum      1200 non-null   int64  \n",
      " 18  total_harsh_events_mean         1200 non-null   float64\n",
      " 19  total_harsh_events_sum          1200 non-null   int64  \n",
      " 20  harsh_events_per_mile_mean      1200 non-null   float64\n",
      " 21  harsh_events_per_minute_mean    1200 non-null   float64\n",
      " 22  phone_usage_seconds_mean        1200 non-null   float64\n",
      " 23  phone_usage_seconds_sum         1200 non-null   int64  \n",
      " 24  phone_usage_percent_mean        1200 non-null   float64\n",
      " 25  phone_usage_flag_mean           1200 non-null   float64\n",
      " 26  excessive_phone_use_mean        1200 non-null   float64\n",
      " 27  speeding_percent_mean           1200 non-null   float64\n",
      " 28  speed_variance_mean             1200 non-null   float64\n",
      " 29  speed_ratio_mean                1200 non-null   float64\n",
      " 30  high_speed_flag_mean            1200 non-null   float64\n",
      " 31  excessive_speed_flag_mean       1200 non-null   float64\n",
      " 32  night_driving_mean              1200 non-null   float64\n",
      " 33  rush_hour_mean                  1200 non-null   float64\n",
      " 34  high_risk_time_mean             1200 non-null   float64\n",
      " 35  long_trip_flag_mean             1200 non-null   float64\n",
      " 36  short_trip_flag_mean            1200 non-null   float64\n",
      " 37  extended_duration_flag_mean     1200 non-null   float64\n",
      " 38  trip_efficiency_mean            1200 non-null   float64\n",
      " 39  data_quality_score_mean         1200 non-null   float64\n",
      " 40  gps_accuracy_avg_mean           1200 non-null   float64\n",
      " 41  low_quality_data_mean           1200 non-null   float64\n",
      " 42  poor_gps_accuracy_mean          1200 non-null   float64\n",
      " 43  avg_trips_per_day               1200 non-null   float64\n",
      " 44  avg_miles_per_trip              1200 non-null   float64\n",
      " 45  avg_duration_per_trip           1200 non-null   float64\n",
      " 46  harsh_driving_intensity         1200 non-null   float64\n",
      " 47  speed_risk_score                1200 non-null   float64\n",
      " 48  distraction_risk_score          1200 non-null   float64\n",
      " 49  timing_risk_score               1200 non-null   float64\n",
      " 50  composite_risk_score            1200 non-null   float64\n",
      " 51  risk_category                   1200 non-null   object \n",
      " 52  high_mileage_driver             1200 non-null   int64  \n",
      " 53  frequent_driver                 1200 non-null   int64  \n",
      " 54  consistent_driver               1200 non-null   int64  \n",
      "dtypes: float64(44), int64(9), object(2)\n",
      "memory usage: 515.8+ KB\n"
     ]
    },
    {
     "data": {
      "application/vnd.microsoft.datawrangler.viewer.v0+json": {
       "columns": [
        {
         "name": "index",
         "rawType": "int64",
         "type": "integer"
        },
        {
         "name": "driver_id",
         "rawType": "object",
         "type": "string"
        },
        {
         "name": "total_trips",
         "rawType": "int64",
         "type": "integer"
        },
        {
         "name": "duration_minutes_mean",
         "rawType": "float64",
         "type": "float"
        },
        {
         "name": "duration_minutes_std",
         "rawType": "float64",
         "type": "float"
        },
        {
         "name": "total_driving_time_minutes",
         "rawType": "float64",
         "type": "float"
        },
        {
         "name": "distance_miles_mean",
         "rawType": "float64",
         "type": "float"
        },
        {
         "name": "distance_miles_std",
         "rawType": "float64",
         "type": "float"
        },
        {
         "name": "total_distance_miles",
         "rawType": "float64",
         "type": "float"
        },
        {
         "name": "average_speed_mph_mean",
         "rawType": "float64",
         "type": "float"
        },
        {
         "name": "average_speed_mph_std",
         "rawType": "float64",
         "type": "float"
        },
        {
         "name": "max_speed_mph_mean",
         "rawType": "float64",
         "type": "float"
        },
        {
         "name": "max_speed_mph_max",
         "rawType": "float64",
         "type": "float"
        },
        {
         "name": "harsh_braking_events_mean",
         "rawType": "float64",
         "type": "float"
        },
        {
         "name": "harsh_braking_events_sum",
         "rawType": "int64",
         "type": "integer"
        },
        {
         "name": "harsh_acceleration_events_mean",
         "rawType": "float64",
         "type": "float"
        },
        {
         "name": "harsh_acceleration_events_sum",
         "rawType": "int64",
         "type": "integer"
        },
        {
         "name": "sharp_cornering_events_mean",
         "rawType": "float64",
         "type": "float"
        },
        {
         "name": "sharp_cornering_events_sum",
         "rawType": "int64",
         "type": "integer"
        },
        {
         "name": "total_harsh_events_mean",
         "rawType": "float64",
         "type": "float"
        },
        {
         "name": "total_harsh_events_sum",
         "rawType": "int64",
         "type": "integer"
        },
        {
         "name": "harsh_events_per_mile_mean",
         "rawType": "float64",
         "type": "float"
        },
        {
         "name": "harsh_events_per_minute_mean",
         "rawType": "float64",
         "type": "float"
        },
        {
         "name": "phone_usage_seconds_mean",
         "rawType": "float64",
         "type": "float"
        },
        {
         "name": "phone_usage_seconds_sum",
         "rawType": "int64",
         "type": "integer"
        },
        {
         "name": "phone_usage_percent_mean",
         "rawType": "float64",
         "type": "float"
        },
        {
         "name": "phone_usage_flag_mean",
         "rawType": "float64",
         "type": "float"
        },
        {
         "name": "excessive_phone_use_mean",
         "rawType": "float64",
         "type": "float"
        },
        {
         "name": "speeding_percent_mean",
         "rawType": "float64",
         "type": "float"
        },
        {
         "name": "speed_variance_mean",
         "rawType": "float64",
         "type": "float"
        },
        {
         "name": "speed_ratio_mean",
         "rawType": "float64",
         "type": "float"
        },
        {
         "name": "high_speed_flag_mean",
         "rawType": "float64",
         "type": "float"
        },
        {
         "name": "excessive_speed_flag_mean",
         "rawType": "float64",
         "type": "float"
        },
        {
         "name": "night_driving_mean",
         "rawType": "float64",
         "type": "float"
        },
        {
         "name": "rush_hour_mean",
         "rawType": "float64",
         "type": "float"
        },
        {
         "name": "high_risk_time_mean",
         "rawType": "float64",
         "type": "float"
        },
        {
         "name": "long_trip_flag_mean",
         "rawType": "float64",
         "type": "float"
        },
        {
         "name": "short_trip_flag_mean",
         "rawType": "float64",
         "type": "float"
        },
        {
         "name": "extended_duration_flag_mean",
         "rawType": "float64",
         "type": "float"
        },
        {
         "name": "trip_efficiency_mean",
         "rawType": "float64",
         "type": "float"
        },
        {
         "name": "data_quality_score_mean",
         "rawType": "float64",
         "type": "float"
        },
        {
         "name": "gps_accuracy_avg_mean",
         "rawType": "float64",
         "type": "float"
        },
        {
         "name": "low_quality_data_mean",
         "rawType": "float64",
         "type": "float"
        },
        {
         "name": "poor_gps_accuracy_mean",
         "rawType": "float64",
         "type": "float"
        },
        {
         "name": "avg_trips_per_day",
         "rawType": "float64",
         "type": "float"
        },
        {
         "name": "avg_miles_per_trip",
         "rawType": "float64",
         "type": "float"
        },
        {
         "name": "avg_duration_per_trip",
         "rawType": "float64",
         "type": "float"
        },
        {
         "name": "harsh_driving_intensity",
         "rawType": "float64",
         "type": "float"
        },
        {
         "name": "speed_risk_score",
         "rawType": "float64",
         "type": "float"
        },
        {
         "name": "distraction_risk_score",
         "rawType": "float64",
         "type": "float"
        },
        {
         "name": "timing_risk_score",
         "rawType": "float64",
         "type": "float"
        },
        {
         "name": "composite_risk_score",
         "rawType": "float64",
         "type": "float"
        },
        {
         "name": "risk_category",
         "rawType": "object",
         "type": "string"
        },
        {
         "name": "high_mileage_driver",
         "rawType": "int64",
         "type": "integer"
        },
        {
         "name": "frequent_driver",
         "rawType": "int64",
         "type": "integer"
        },
        {
         "name": "consistent_driver",
         "rawType": "int64",
         "type": "integer"
        }
       ],
       "ref": "4a396623-de75-4b82-b851-2d2ef0c5ae84",
       "rows": [
        [
         "0",
         "0002af179ff1223f",
         "12",
         "32.625",
         "22.2946",
         "391.5",
         "19.2492",
         "12.2774",
         "230.99",
         "39.0583",
         "6.1187",
         "47.4",
         "57.1",
         "1.25",
         "15",
         "1.25",
         "15",
         "0.75",
         "9",
         "3.25",
         "39",
         "0.1883",
         "0.1027",
         "0.0",
         "0",
         "0.0",
         "0.0",
         "0.0",
         "0.0977",
         "8.3417",
         "1.2157",
         "0.0",
         "0.0",
         "0.25",
         "0.5833",
         "0.8333",
         "0.0",
         "0.25",
         "0.0",
         "0.5982",
         "0.93",
         "18.3363",
         "0.0833",
         "0.8333",
         "0.4",
         "19.249166666666667",
         "32.625",
         "3.25",
         "0.03908",
         "0.0",
         "9.583",
         "34.428324",
         "High",
         "0",
         "0",
         "1"
        ],
        [
         "1",
         "003485c0a33db1b4",
         "17",
         "24.0529",
         "12.4703",
         "408.9",
         "10.1388",
         "6.6773",
         "172.36",
         "29.6059",
         "4.7059",
         "38.0529",
         "51.0",
         "0.7059",
         "12",
         "0.8824",
         "15",
         "0.9412",
         "16",
         "2.5294",
         "43",
         "0.3146",
         "0.1163",
         "9.0588",
         "154",
         "1.4313",
         "0.1176",
         "0.0588",
         "0.0945",
         "8.4471",
         "1.2862",
         "0.0",
         "0.0",
         "0.1765",
         "0.7059",
         "0.8824",
         "0.0",
         "0.1765",
         "0.0",
         "0.4328",
         "0.887",
         "17.0923",
         "0.1765",
         "0.8824",
         "0.5666666666666667",
         "10.138823529411766",
         "24.052941176470583",
         "2.5295",
         "0.0378",
         "4.0386",
         "9.706499999999998",
         "29.266939999999995",
         "High",
         "0",
         "0",
         "1"
        ],
        [
         "2",
         "00b03adcdee26a16",
         "9",
         "28.9889",
         "21.1209",
         "260.9",
         "24.0533",
         "22.5892",
         "216.48",
         "47.6333",
         "4.9513",
         "60.2778",
         "78.6",
         "4.2222",
         "38",
         "4.5556",
         "41",
         "2.4444",
         "22",
         "11.2222",
         "101",
         "0.5119",
         "0.3979",
         "2.7778",
         "25",
         "0.4495",
         "0.1111",
         "0.0",
         "0.3476",
         "12.6444",
         "1.2664",
         "0.0",
         "0.0",
         "0.3333",
         "0.4444",
         "0.7778",
         "0.1111",
         "0.0",
         "0.0",
         "0.7893",
         "0.8789",
         "17.8971",
         "0.2222",
         "0.6667",
         "0.3",
         "24.05333333333333",
         "28.988888888888887",
         "11.2222",
         "0.13904",
         "0.899",
         "9.4435",
         "114.601912",
         "Very High",
         "0",
         "0",
         "1"
        ],
        [
         "3",
         "00c67cb4783ab2fa",
         "18",
         "23.7889",
         "9.5601",
         "428.2",
         "18.0206",
         "7.8179",
         "324.37",
         "49.1833",
         "4.149",
         "58.35",
         "65.8",
         "3.8889",
         "70",
         "2.6111",
         "47",
         "3.0",
         "54",
         "9.5",
         "171",
         "0.5939",
         "0.4315",
         "8.7222",
         "157",
         "0.5119",
         "0.4444",
         "0.0",
         "0.2782",
         "9.1667",
         "1.1898",
         "0.0",
         "0.0",
         "0.1667",
         "0.7222",
         "0.8889",
         "0.0",
         "0.0556",
         "0.0",
         "0.7524",
         "0.891",
         "14.9008",
         "0.2222",
         "0.6667",
         "0.6",
         "18.02055555555556",
         "23.788888888888888",
         "9.5",
         "0.11128",
         "1.0238",
         "9.7225",
         "97.489784",
         "Very High",
         "0",
         "0",
         "1"
        ],
        [
         "4",
         "00c89280fe405154",
         "17",
         "23.0824",
         "12.5857",
         "392.4",
         "12.4771",
         "6.7808",
         "212.11",
         "30.6824",
         "4.3216",
         "43.5059",
         "61.9",
         "0.3529",
         "6",
         "0.4706",
         "8",
         "0.1765",
         "3",
         "1.0",
         "17",
         "0.0793",
         "0.0448",
         "8.5882",
         "146",
         "0.8647",
         "0.1176",
         "0.0",
         "0.0251",
         "12.8235",
         "1.4369",
         "0.0",
         "0.0",
         "0.2353",
         "0.4118",
         "0.6471",
         "0.0",
         "0.1176",
         "0.0",
         "0.5449",
         "0.8912",
         "16.2346",
         "0.1176",
         "0.8235",
         "0.5666666666666667",
         "12.477058823529411",
         "23.08235294117647",
         "1.0",
         "0.01004",
         "1.7294",
         "7.647500000000001",
         "12.397212",
         "Medium",
         "0",
         "0",
         "1"
        ]
       ],
       "shape": {
        "columns": 55,
        "rows": 5
       }
      },
      "text/html": [
       "<div>\n",
       "<style scoped>\n",
       "    .dataframe tbody tr th:only-of-type {\n",
       "        vertical-align: middle;\n",
       "    }\n",
       "\n",
       "    .dataframe tbody tr th {\n",
       "        vertical-align: top;\n",
       "    }\n",
       "\n",
       "    .dataframe thead th {\n",
       "        text-align: right;\n",
       "    }\n",
       "</style>\n",
       "<table border=\"1\" class=\"dataframe\">\n",
       "  <thead>\n",
       "    <tr style=\"text-align: right;\">\n",
       "      <th></th>\n",
       "      <th>driver_id</th>\n",
       "      <th>total_trips</th>\n",
       "      <th>duration_minutes_mean</th>\n",
       "      <th>duration_minutes_std</th>\n",
       "      <th>total_driving_time_minutes</th>\n",
       "      <th>distance_miles_mean</th>\n",
       "      <th>distance_miles_std</th>\n",
       "      <th>total_distance_miles</th>\n",
       "      <th>average_speed_mph_mean</th>\n",
       "      <th>average_speed_mph_std</th>\n",
       "      <th>...</th>\n",
       "      <th>avg_duration_per_trip</th>\n",
       "      <th>harsh_driving_intensity</th>\n",
       "      <th>speed_risk_score</th>\n",
       "      <th>distraction_risk_score</th>\n",
       "      <th>timing_risk_score</th>\n",
       "      <th>composite_risk_score</th>\n",
       "      <th>risk_category</th>\n",
       "      <th>high_mileage_driver</th>\n",
       "      <th>frequent_driver</th>\n",
       "      <th>consistent_driver</th>\n",
       "    </tr>\n",
       "  </thead>\n",
       "  <tbody>\n",
       "    <tr>\n",
       "      <th>0</th>\n",
       "      <td>0002af179ff1223f</td>\n",
       "      <td>12</td>\n",
       "      <td>32.6250</td>\n",
       "      <td>22.2946</td>\n",
       "      <td>391.5</td>\n",
       "      <td>19.2492</td>\n",
       "      <td>12.2774</td>\n",
       "      <td>230.99</td>\n",
       "      <td>39.0583</td>\n",
       "      <td>6.1187</td>\n",
       "      <td>...</td>\n",
       "      <td>32.625000</td>\n",
       "      <td>3.2500</td>\n",
       "      <td>0.03908</td>\n",
       "      <td>0.0000</td>\n",
       "      <td>9.5830</td>\n",
       "      <td>34.428324</td>\n",
       "      <td>High</td>\n",
       "      <td>0</td>\n",
       "      <td>0</td>\n",
       "      <td>1</td>\n",
       "    </tr>\n",
       "    <tr>\n",
       "      <th>1</th>\n",
       "      <td>003485c0a33db1b4</td>\n",
       "      <td>17</td>\n",
       "      <td>24.0529</td>\n",
       "      <td>12.4703</td>\n",
       "      <td>408.9</td>\n",
       "      <td>10.1388</td>\n",
       "      <td>6.6773</td>\n",
       "      <td>172.36</td>\n",
       "      <td>29.6059</td>\n",
       "      <td>4.7059</td>\n",
       "      <td>...</td>\n",
       "      <td>24.052941</td>\n",
       "      <td>2.5295</td>\n",
       "      <td>0.03780</td>\n",
       "      <td>4.0386</td>\n",
       "      <td>9.7065</td>\n",
       "      <td>29.266940</td>\n",
       "      <td>High</td>\n",
       "      <td>0</td>\n",
       "      <td>0</td>\n",
       "      <td>1</td>\n",
       "    </tr>\n",
       "    <tr>\n",
       "      <th>2</th>\n",
       "      <td>00b03adcdee26a16</td>\n",
       "      <td>9</td>\n",
       "      <td>28.9889</td>\n",
       "      <td>21.1209</td>\n",
       "      <td>260.9</td>\n",
       "      <td>24.0533</td>\n",
       "      <td>22.5892</td>\n",
       "      <td>216.48</td>\n",
       "      <td>47.6333</td>\n",
       "      <td>4.9513</td>\n",
       "      <td>...</td>\n",
       "      <td>28.988889</td>\n",
       "      <td>11.2222</td>\n",
       "      <td>0.13904</td>\n",
       "      <td>0.8990</td>\n",
       "      <td>9.4435</td>\n",
       "      <td>114.601912</td>\n",
       "      <td>Very High</td>\n",
       "      <td>0</td>\n",
       "      <td>0</td>\n",
       "      <td>1</td>\n",
       "    </tr>\n",
       "    <tr>\n",
       "      <th>3</th>\n",
       "      <td>00c67cb4783ab2fa</td>\n",
       "      <td>18</td>\n",
       "      <td>23.7889</td>\n",
       "      <td>9.5601</td>\n",
       "      <td>428.2</td>\n",
       "      <td>18.0206</td>\n",
       "      <td>7.8179</td>\n",
       "      <td>324.37</td>\n",
       "      <td>49.1833</td>\n",
       "      <td>4.1490</td>\n",
       "      <td>...</td>\n",
       "      <td>23.788889</td>\n",
       "      <td>9.5000</td>\n",
       "      <td>0.11128</td>\n",
       "      <td>1.0238</td>\n",
       "      <td>9.7225</td>\n",
       "      <td>97.489784</td>\n",
       "      <td>Very High</td>\n",
       "      <td>0</td>\n",
       "      <td>0</td>\n",
       "      <td>1</td>\n",
       "    </tr>\n",
       "    <tr>\n",
       "      <th>4</th>\n",
       "      <td>00c89280fe405154</td>\n",
       "      <td>17</td>\n",
       "      <td>23.0824</td>\n",
       "      <td>12.5857</td>\n",
       "      <td>392.4</td>\n",
       "      <td>12.4771</td>\n",
       "      <td>6.7808</td>\n",
       "      <td>212.11</td>\n",
       "      <td>30.6824</td>\n",
       "      <td>4.3216</td>\n",
       "      <td>...</td>\n",
       "      <td>23.082353</td>\n",
       "      <td>1.0000</td>\n",
       "      <td>0.01004</td>\n",
       "      <td>1.7294</td>\n",
       "      <td>7.6475</td>\n",
       "      <td>12.397212</td>\n",
       "      <td>Medium</td>\n",
       "      <td>0</td>\n",
       "      <td>0</td>\n",
       "      <td>1</td>\n",
       "    </tr>\n",
       "  </tbody>\n",
       "</table>\n",
       "<p>5 rows × 55 columns</p>\n",
       "</div>"
      ],
      "text/plain": [
       "          driver_id  total_trips  duration_minutes_mean  duration_minutes_std  \\\n",
       "0  0002af179ff1223f           12                32.6250               22.2946   \n",
       "1  003485c0a33db1b4           17                24.0529               12.4703   \n",
       "2  00b03adcdee26a16            9                28.9889               21.1209   \n",
       "3  00c67cb4783ab2fa           18                23.7889                9.5601   \n",
       "4  00c89280fe405154           17                23.0824               12.5857   \n",
       "\n",
       "   total_driving_time_minutes  distance_miles_mean  distance_miles_std  \\\n",
       "0                       391.5              19.2492             12.2774   \n",
       "1                       408.9              10.1388              6.6773   \n",
       "2                       260.9              24.0533             22.5892   \n",
       "3                       428.2              18.0206              7.8179   \n",
       "4                       392.4              12.4771              6.7808   \n",
       "\n",
       "   total_distance_miles  average_speed_mph_mean  average_speed_mph_std  ...  \\\n",
       "0                230.99                 39.0583                 6.1187  ...   \n",
       "1                172.36                 29.6059                 4.7059  ...   \n",
       "2                216.48                 47.6333                 4.9513  ...   \n",
       "3                324.37                 49.1833                 4.1490  ...   \n",
       "4                212.11                 30.6824                 4.3216  ...   \n",
       "\n",
       "   avg_duration_per_trip  harsh_driving_intensity  speed_risk_score  \\\n",
       "0              32.625000                   3.2500           0.03908   \n",
       "1              24.052941                   2.5295           0.03780   \n",
       "2              28.988889                  11.2222           0.13904   \n",
       "3              23.788889                   9.5000           0.11128   \n",
       "4              23.082353                   1.0000           0.01004   \n",
       "\n",
       "   distraction_risk_score  timing_risk_score  composite_risk_score  \\\n",
       "0                  0.0000             9.5830             34.428324   \n",
       "1                  4.0386             9.7065             29.266940   \n",
       "2                  0.8990             9.4435            114.601912   \n",
       "3                  1.0238             9.7225             97.489784   \n",
       "4                  1.7294             7.6475             12.397212   \n",
       "\n",
       "   risk_category  high_mileage_driver  frequent_driver  consistent_driver  \n",
       "0           High                    0                0                  1  \n",
       "1           High                    0                0                  1  \n",
       "2      Very High                    0                0                  1  \n",
       "3      Very High                    0                0                  1  \n",
       "4         Medium                    0                0                  1  \n",
       "\n",
       "[5 rows x 55 columns]"
      ]
     },
     "execution_count": 2,
     "metadata": {},
     "output_type": "execute_result"
    }
   ],
   "source": [
    "# Load processed features\n",
    "data_path = '../data/processed/'\n",
    "\n",
    "# Load driver-level features (main dataset for modeling)\n",
    "df = pd.read_csv(os.path.join(data_path, 'driver_level_features.csv'))\n",
    "\n",
    "print(f\"Dataset shape: {df.shape}\")\n",
    "print(f\"\\nDataset info:\")\n",
    "df.info()\n",
    "\n",
    "# Display first few rows\n",
    "df.head()"
   ]
  },
  {
   "cell_type": "code",
   "execution_count": 3,
   "metadata": {},
   "outputs": [
    {
     "name": "stdout",
     "output_type": "stream",
     "text": [
      "Claim distribution:\n",
      "has_claim\n",
      "0    1030\n",
      "1     170\n",
      "Name: count, dtype: int64\n",
      "\n",
      "Claim rate: 0.142\n"
     ]
    }
   ],
   "source": [
    "# Create synthetic claim labels for demonstration\n",
    "# In real scenario, you would have actual claim data\n",
    "np.random.seed(42)\n",
    "\n",
    "# Create claim probability based on risk factors (more realistic simulation)\n",
    "claim_prob = (\n",
    "    0.05 +  # Base claim rate\n",
    "    0.15 * (df['composite_risk_score'] / df['composite_risk_score'].max()) +\n",
    "    0.10 * df['harsh_driving_intensity'] / df['harsh_driving_intensity'].max() +\n",
    "    0.08 * df['speed_risk_score'] / df['speed_risk_score'].max() +\n",
    "    0.05 * df['distraction_risk_score'] / df['distraction_risk_score'].max()\n",
    ")\n",
    "\n",
    "# Cap probability at reasonable level\n",
    "claim_prob = np.clip(claim_prob, 0, 0.4)\n",
    "\n",
    "# Generate binary claims based on probability\n",
    "df['has_claim'] = np.random.binomial(1, claim_prob)\n",
    "\n",
    "print(f\"Claim distribution:\")\n",
    "print(df['has_claim'].value_counts())\n",
    "print(f\"\\nClaim rate: {df['has_claim'].mean():.3f}\")\n",
    "\n",
    "# Note: Replace this section with actual claim data loading in production"
   ]
  },
  {
   "cell_type": "markdown",
   "metadata": {},
   "source": [
    "## 2. Feature Selection and Preprocessing"
   ]
  },
  {
   "cell_type": "code",
   "execution_count": 4,
   "metadata": {},
   "outputs": [
    {
     "name": "stdout",
     "output_type": "stream",
     "text": [
      "Total features available: 53\n",
      "\n",
      "Selected features:\n",
      " 1. total_trips\n",
      " 2. duration_minutes_mean\n",
      " 3. duration_minutes_std\n",
      " 4. total_driving_time_minutes\n",
      " 5. distance_miles_mean\n",
      " 6. distance_miles_std\n",
      " 7. total_distance_miles\n",
      " 8. average_speed_mph_mean\n",
      " 9. average_speed_mph_std\n",
      "10. max_speed_mph_mean\n",
      "11. max_speed_mph_max\n",
      "12. harsh_braking_events_mean\n",
      "13. harsh_braking_events_sum\n",
      "14. harsh_acceleration_events_mean\n",
      "15. harsh_acceleration_events_sum\n",
      "16. sharp_cornering_events_mean\n",
      "17. sharp_cornering_events_sum\n",
      "18. total_harsh_events_mean\n",
      "19. total_harsh_events_sum\n",
      "20. harsh_events_per_mile_mean\n",
      "21. harsh_events_per_minute_mean\n",
      "22. phone_usage_seconds_mean\n",
      "23. phone_usage_seconds_sum\n",
      "24. phone_usage_percent_mean\n",
      "25. phone_usage_flag_mean\n",
      "26. excessive_phone_use_mean\n",
      "27. speeding_percent_mean\n",
      "28. speed_variance_mean\n",
      "29. speed_ratio_mean\n",
      "30. high_speed_flag_mean\n",
      "31. excessive_speed_flag_mean\n",
      "32. night_driving_mean\n",
      "33. rush_hour_mean\n",
      "34. high_risk_time_mean\n",
      "35. long_trip_flag_mean\n",
      "36. short_trip_flag_mean\n",
      "37. extended_duration_flag_mean\n",
      "38. trip_efficiency_mean\n",
      "39. data_quality_score_mean\n",
      "40. gps_accuracy_avg_mean\n",
      "41. low_quality_data_mean\n",
      "42. poor_gps_accuracy_mean\n",
      "43. avg_trips_per_day\n",
      "44. avg_miles_per_trip\n",
      "45. avg_duration_per_trip\n",
      "46. harsh_driving_intensity\n",
      "47. speed_risk_score\n",
      "48. distraction_risk_score\n",
      "49. timing_risk_score\n",
      "50. composite_risk_score\n",
      "51. high_mileage_driver\n",
      "52. frequent_driver\n",
      "53. consistent_driver\n"
     ]
    }
   ],
   "source": [
    "# Define features for modeling\n",
    "# Exclude ID columns and target variable\n",
    "exclude_cols = ['driver_id', 'has_claim', 'risk_category']  # risk_category is categorical\n",
    "feature_cols = [col for col in df.columns if col not in exclude_cols]\n",
    "\n",
    "print(f\"Total features available: {len(feature_cols)}\")\n",
    "print(f\"\\nSelected features:\")\n",
    "for i, feature in enumerate(feature_cols, 1):\n",
    "    print(f\"{i:2d}. {feature}\")"
   ]
  },
  {
   "cell_type": "code",
   "execution_count": 5,
   "metadata": {},
   "outputs": [
    {
     "name": "stdout",
     "output_type": "stream",
     "text": [
      "Missing values per feature:\n",
      "No missing values found\n",
      "\n",
      "Final feature matrix shape: (1200, 53)\n",
      "Target distribution: {0: 1030, 1: 170}\n"
     ]
    }
   ],
   "source": [
    "# Prepare features and target\n",
    "X = df[feature_cols].copy()\n",
    "y = df['has_claim'].copy()\n",
    "\n",
    "# Handle any missing values\n",
    "print(f\"Missing values per feature:\")\n",
    "missing_counts = X.isnull().sum()\n",
    "if missing_counts.sum() > 0:\n",
    "    print(missing_counts[missing_counts > 0])\n",
    "    # Fill missing values with median\n",
    "    X = X.fillna(X.median())\n",
    "else:\n",
    "    print(\"No missing values found\")\n",
    "\n",
    "# Check for infinite values\n",
    "inf_counts = np.isinf(X).sum()\n",
    "if inf_counts.sum() > 0:\n",
    "    print(f\"\\nInfinite values found:\")\n",
    "    print(inf_counts[inf_counts > 0])\n",
    "    X = X.replace([np.inf, -np.inf], np.nan).fillna(X.median())\n",
    "\n",
    "print(f\"\\nFinal feature matrix shape: {X.shape}\")\n",
    "print(f\"Target distribution: {y.value_counts().to_dict()}\")"
   ]
  },
  {
   "cell_type": "markdown",
   "metadata": {},
   "source": [
    "## 3. Train-Test Split and Cross-Validation Setup"
   ]
  },
  {
   "cell_type": "code",
   "execution_count": 6,
   "metadata": {},
   "outputs": [
    {
     "name": "stdout",
     "output_type": "stream",
     "text": [
      "Training set: 960 samples\n",
      "Test set: 240 samples\n",
      "\n",
      "Train claim rate: 0.142\n",
      "Test claim rate: 0.142\n",
      "\n",
      "Cross-validation: 3-fold stratified\n"
     ]
    }
   ],
   "source": [
    "# Split data into train and test sets\n",
    "X_train, X_test, y_train, y_test = train_test_split(\n",
    "    X, y, test_size=0.2, random_state=42, stratify=y\n",
    ")\n",
    "\n",
    "print(f\"Training set: {X_train.shape[0]} samples\")\n",
    "print(f\"Test set: {X_test.shape[0]} samples\")\n",
    "print(f\"\\nTrain claim rate: {y_train.mean():.3f}\")\n",
    "print(f\"Test claim rate: {y_test.mean():.3f}\")\n",
    "\n",
    "# Setup cross-validation\n",
    "cv_folds = 3  # due to run time constraints I set it to 3\n",
    "cv = StratifiedKFold(n_splits=cv_folds, shuffle=True, random_state=42)\n",
    "\n",
    "print(f\"\\nCross-validation: {cv_folds}-fold stratified\")"
   ]
  },
  {
   "cell_type": "markdown",
   "metadata": {},
   "source": [
    "## 4. Baseline Model Performance"
   ]
  },
  {
   "cell_type": "code",
   "execution_count": 7,
   "metadata": {},
   "outputs": [
    {
     "name": "stdout",
     "output_type": "stream",
     "text": [
      "Baseline Model Cross-Validation Results:\n",
      "=============================================\n",
      "        F1: 0.0366 (+/- 0.0594)\n",
      " PRECISION: 0.1037 (+/- 0.1636)\n",
      "    RECALL: 0.0222 (+/- 0.0363)\n",
      "   ROC_AUC: 0.5240 (+/- 0.0394)\n",
      "\n",
      "Baseline Test Set Performance:\n",
      "F1 Score: 0.2222\n",
      "ROC AUC: 0.5762\n"
     ]
    }
   ],
   "source": [
    "# Train baseline XGBoost model\n",
    "baseline_model = xgb.XGBClassifier(\n",
    "    random_state=42,\n",
    "    eval_metric='logloss',\n",
    "    verbosity=0\n",
    ")\n",
    "\n",
    "# Cross-validation scores\n",
    "cv_scores = {\n",
    "    'f1': cross_val_score(baseline_model, X_train, y_train, cv=cv, scoring='f1'),\n",
    "    'precision': cross_val_score(baseline_model, X_train, y_train, cv=cv, scoring='precision'),\n",
    "    'recall': cross_val_score(baseline_model, X_train, y_train, cv=cv, scoring='recall'),\n",
    "    'roc_auc': cross_val_score(baseline_model, X_train, y_train, cv=cv, scoring='roc_auc')\n",
    "}\n",
    "\n",
    "print(\"Baseline Model Cross-Validation Results:\")\n",
    "print(\"=\" * 45)\n",
    "for metric, scores in cv_scores.items():\n",
    "    print(f\"{metric.upper():>10}: {scores.mean():.4f} (+/- {scores.std() * 2:.4f})\")\n",
    "\n",
    "# Train on full training set for feature importance\n",
    "baseline_model.fit(X_train, y_train)\n",
    "baseline_pred = baseline_model.predict(X_test)\n",
    "baseline_pred_proba = baseline_model.predict_proba(X_test)[:, 1]\n",
    "\n",
    "print(f\"\\nBaseline Test Set Performance:\")\n",
    "print(f\"F1 Score: {f1_score(y_test, baseline_pred):.4f}\")\n",
    "print(f\"ROC AUC: {roc_auc_score(y_test, baseline_pred_proba):.4f}\")"
   ]
  },
  {
   "cell_type": "markdown",
   "metadata": {},
   "source": [
    "## 5. Hyperparameter Optimization with Optuna"
   ]
  },
  {
   "cell_type": "code",
   "execution_count": 8,
   "metadata": {},
   "outputs": [
    {
     "name": "stderr",
     "output_type": "stream",
     "text": [
      "[I 2025-07-12 21:49:10,608] A new study created in memory with name: xgboost_claim_prediction\n"
     ]
    },
    {
     "name": "stdout",
     "output_type": "stream",
     "text": [
      "Starting hyperparameter optimization...\n",
      "This may take several minutes...\n"
     ]
    },
    {
     "name": "stderr",
     "output_type": "stream",
     "text": [
      "Best trial: 0. Best value: 0.034127:   5%|▌         | 1/20 [00:54<17:06, 54.04s/it]"
     ]
    },
    {
     "name": "stdout",
     "output_type": "stream",
     "text": [
      "[I 2025-07-12 21:50:04,647] Trial 0 finished with value: 0.034126984126984124 and parameters: {'n_estimators': 437, 'max_depth': 10, 'learning_rate': 0.1205712628744377, 'subsample': 0.8394633936788146, 'colsample_bytree': 0.6624074561769746, 'reg_alpha': 2.5348407664333426e-07, 'reg_lambda': 3.3323645788192616e-08, 'min_child_weight': 9, 'gamma': 0.0006440507553993703}. Best is trial 0 with value: 0.034126984126984124.\n"
     ]
    },
    {
     "name": "stderr",
     "output_type": "stream",
     "text": [
      "Best trial: 1. Best value: 0.0444444:  10%|█         | 2/20 [02:03<18:54, 63.05s/it]"
     ]
    },
    {
     "name": "stdout",
     "output_type": "stream",
     "text": [
      "[I 2025-07-12 21:51:14,005] Trial 1 finished with value: 0.044444444444444446 and parameters: {'n_estimators': 737, 'max_depth': 3, 'learning_rate': 0.2708160864249968, 'subsample': 0.9329770563201687, 'colsample_bytree': 0.6849356442713105, 'reg_alpha': 4.329370014459266e-07, 'reg_lambda': 4.4734294104626844e-07, 'min_child_weight': 4, 'gamma': 0.00015777981883364995}. Best is trial 1 with value: 0.044444444444444446.\n"
     ]
    },
    {
     "name": "stderr",
     "output_type": "stream",
     "text": [
      "Best trial: 1. Best value: 0.0444444:  15%|█▌        | 3/20 [03:06<17:50, 62.99s/it]"
     ]
    },
    {
     "name": "stdout",
     "output_type": "stream",
     "text": [
      "[I 2025-07-12 21:52:16,911] Trial 2 finished with value: 0.034920634920634915 and parameters: {'n_estimators': 489, 'max_depth': 5, 'learning_rate': 0.08012737503998542, 'subsample': 0.6557975442608167, 'colsample_bytree': 0.7168578594140873, 'reg_alpha': 1.9826980964985924e-05, 'reg_lambda': 0.00012724181576752517, 'min_child_weight': 8, 'gamma': 3.9572205641009174e-07}. Best is trial 1 with value: 0.044444444444444446.\n"
     ]
    },
    {
     "name": "stderr",
     "output_type": "stream",
     "text": [
      "Best trial: 1. Best value: 0.0444444:  20%|██        | 4/20 [04:31<19:07, 71.74s/it]"
     ]
    },
    {
     "name": "stdout",
     "output_type": "stream",
     "text": [
      "[I 2025-07-12 21:53:42,085] Trial 3 finished with value: 0.0 and parameters: {'n_estimators': 563, 'max_depth': 7, 'learning_rate': 0.011711509955524094, 'subsample': 0.8430179407605753, 'colsample_bytree': 0.6682096494749166, 'reg_alpha': 3.850031979199519e-08, 'reg_lambda': 3.4671276804481113, 'min_child_weight': 10, 'gamma': 0.02932100047183291}. Best is trial 1 with value: 0.044444444444444446.\n"
     ]
    },
    {
     "name": "stderr",
     "output_type": "stream",
     "text": [
      "Best trial: 4. Best value: 0.0472164:  25%|██▌       | 5/20 [05:12<15:07, 60.49s/it]"
     ]
    },
    {
     "name": "stdout",
     "output_type": "stream",
     "text": [
      "[I 2025-07-12 21:54:22,622] Trial 4 finished with value: 0.047216396462376686 and parameters: {'n_estimators': 374, 'max_depth': 3, 'learning_rate': 0.1024932221692416, 'subsample': 0.7760609974958406, 'colsample_bytree': 0.6488152939379115, 'reg_alpha': 0.00028614897264046574, 'reg_lambda': 2.039373116525212e-08, 'min_child_weight': 10, 'gamma': 1.1755466083160747e-06}. Best is trial 4 with value: 0.047216396462376686.\n"
     ]
    },
    {
     "name": "stderr",
     "output_type": "stream",
     "text": [
      "Best trial: 4. Best value: 0.0472164:  30%|███       | 6/20 [06:12<14:06, 60.48s/it]"
     ]
    },
    {
     "name": "stdout",
     "output_type": "stream",
     "text": [
      "[I 2025-07-12 21:55:23,087] Trial 5 finished with value: 0.02666666666666667 and parameters: {'n_estimators': 696, 'max_depth': 5, 'learning_rate': 0.05864129169696527, 'subsample': 0.8186841117373118, 'colsample_bytree': 0.6739417822102108, 'reg_alpha': 5.324289357128436, 'reg_lambda': 0.09466630153726856, 'min_child_weight': 10, 'gamma': 0.14408501080722544}. Best is trial 4 with value: 0.047216396462376686.\n"
     ]
    },
    {
     "name": "stderr",
     "output_type": "stream",
     "text": [
      "Best trial: 4. Best value: 0.0472164:  35%|███▌      | 7/20 [08:42<19:27, 89.82s/it]"
     ]
    },
    {
     "name": "stdout",
     "output_type": "stream",
     "text": [
      "[I 2025-07-12 21:57:53,304] Trial 6 finished with value: 0.026143790849673203 and parameters: {'n_estimators': 638, 'max_depth': 10, 'learning_rate': 0.01351182947645082, 'subsample': 0.6783931449676581, 'colsample_bytree': 0.6180909155642152, 'reg_alpha': 8.471746987003668e-06, 'reg_lambda': 3.148441347423712e-05, 'min_child_weight': 3, 'gamma': 0.04264813784432918}. Best is trial 4 with value: 0.047216396462376686.\n"
     ]
    },
    {
     "name": "stderr",
     "output_type": "stream",
     "text": [
      "Best trial: 7. Best value: 0.0505838:  40%|████      | 8/20 [09:40<15:56, 79.67s/it]"
     ]
    },
    {
     "name": "stdout",
     "output_type": "stream",
     "text": [
      "[I 2025-07-12 21:58:51,241] Trial 7 finished with value: 0.05058376627004078 and parameters: {'n_estimators': 421, 'max_depth': 5, 'learning_rate': 0.06333268775321842, 'subsample': 0.6563696899899051, 'colsample_bytree': 0.9208787923016158, 'reg_alpha': 4.6876566400928895e-08, 'reg_lambda': 7.620481786158549, 'min_child_weight': 8, 'gamma': 3.8879928024075543e-07}. Best is trial 7 with value: 0.05058376627004078.\n"
     ]
    },
    {
     "name": "stderr",
     "output_type": "stream",
     "text": [
      "Best trial: 7. Best value: 0.0505838:  45%|████▌     | 9/20 [10:08<11:39, 63.58s/it]"
     ]
    },
    {
     "name": "stdout",
     "output_type": "stream",
     "text": [
      "[I 2025-07-12 21:59:19,436] Trial 8 finished with value: 0.048639017524164295 and parameters: {'n_estimators': 104, 'max_depth': 9, 'learning_rate': 0.11069143219393454, 'subsample': 0.8916028672163949, 'colsample_bytree': 0.9085081386743783, 'reg_alpha': 4.638759594322625e-08, 'reg_lambda': 1.683416412018213e-05, 'min_child_weight': 2, 'gamma': 0.08032068562667222}. Best is trial 7 with value: 0.05058376627004078.\n"
     ]
    },
    {
     "name": "stderr",
     "output_type": "stream",
     "text": [
      "Best trial: 7. Best value: 0.0505838:  50%|█████     | 10/20 [11:50<12:34, 75.47s/it]"
     ]
    },
    {
     "name": "stdout",
     "output_type": "stream",
     "text": [
      "[I 2025-07-12 22:01:01,535] Trial 9 finished with value: 0.013888888888888888 and parameters: {'n_estimators': 661, 'max_depth': 5, 'learning_rate': 0.012413189635294229, 'subsample': 0.7243929286862649, 'colsample_bytree': 0.7300733288106989, 'reg_alpha': 0.036851536911881845, 'reg_lambda': 0.005470376807480391, 'min_child_weight': 9, 'gamma': 5.994036749692399e-05}. Best is trial 7 with value: 0.05058376627004078.\n"
     ]
    },
    {
     "name": "stderr",
     "output_type": "stream",
     "text": [
      "Best trial: 7. Best value: 0.0505838:  55%|█████▌    | 11/20 [14:06<14:05, 93.92s/it]"
     ]
    },
    {
     "name": "stdout",
     "output_type": "stream",
     "text": [
      "[I 2025-07-12 22:03:17,282] Trial 10 finished with value: 0.036821040594625494 and parameters: {'n_estimators': 951, 'max_depth': 7, 'learning_rate': 0.029323105618991638, 'subsample': 0.6071847502459278, 'colsample_bytree': 0.9924283304357214, 'reg_alpha': 0.016301353379407527, 'reg_lambda': 5.719260088479239, 'min_child_weight': 6, 'gamma': 2.081597936102225e-08}. Best is trial 7 with value: 0.05058376627004078.\n"
     ]
    },
    {
     "name": "stderr",
     "output_type": "stream",
     "text": [
      "Best trial: 7. Best value: 0.0505838:  60%|██████    | 12/20 [14:16<09:07, 68.42s/it]"
     ]
    },
    {
     "name": "stdout",
     "output_type": "stream",
     "text": [
      "[I 2025-07-12 22:03:27,393] Trial 11 finished with value: 0.0 and parameters: {'n_estimators': 104, 'max_depth': 8, 'learning_rate': 0.19265640527744946, 'subsample': 0.9732335194426311, 'colsample_bytree': 0.9148977491943684, 'reg_alpha': 1.5351121797910752e-08, 'reg_lambda': 4.806349849475463e-06, 'min_child_weight': 1, 'gamma': 0.9647633433058268}. Best is trial 7 with value: 0.05058376627004078.\n"
     ]
    },
    {
     "name": "stderr",
     "output_type": "stream",
     "text": [
      "Best trial: 7. Best value: 0.0505838:  65%|██████▌   | 13/20 [14:41<06:26, 55.22s/it]"
     ]
    },
    {
     "name": "stdout",
     "output_type": "stream",
     "text": [
      "[I 2025-07-12 22:03:52,240] Trial 12 finished with value: 0.0 and parameters: {'n_estimators': 110, 'max_depth': 9, 'learning_rate': 0.035631879043607706, 'subsample': 0.8959926730523962, 'colsample_bytree': 0.8624306017432581, 'reg_alpha': 2.9536889586486034e-06, 'reg_lambda': 0.00445437224264839, 'min_child_weight': 6, 'gamma': 5.462542782320958e-06}. Best is trial 7 with value: 0.05058376627004078.\n"
     ]
    },
    {
     "name": "stderr",
     "output_type": "stream",
     "text": [
      "Best trial: 7. Best value: 0.0505838:  70%|███████   | 14/20 [15:35<05:29, 54.84s/it]"
     ]
    },
    {
     "name": "stdout",
     "output_type": "stream",
     "text": [
      "[I 2025-07-12 22:04:46,196] Trial 13 finished with value: 0.03751187084520418 and parameters: {'n_estimators': 257, 'max_depth': 6, 'learning_rate': 0.03891469423179501, 'subsample': 0.7631435327819819, 'colsample_bytree': 0.8461973930102327, 'reg_alpha': 1.698030369119436e-08, 'reg_lambda': 0.008179330845999084, 'min_child_weight': 2, 'gamma': 0.0030481537207848425}. Best is trial 7 with value: 0.05058376627004078.\n"
     ]
    },
    {
     "name": "stderr",
     "output_type": "stream",
     "text": [
      "Best trial: 14. Best value: 0.0561787:  75%|███████▌  | 15/20 [16:20<04:18, 51.76s/it]"
     ]
    },
    {
     "name": "stdout",
     "output_type": "stream",
     "text": [
      "[I 2025-07-12 22:05:30,815] Trial 14 finished with value: 0.056178698111398716 and parameters: {'n_estimators': 292, 'max_depth': 4, 'learning_rate': 0.15060012076725598, 'subsample': 0.8952393368504931, 'colsample_bytree': 0.9570122700768573, 'reg_alpha': 0.00016118649078143831, 'reg_lambda': 1.310872921506698e-06, 'min_child_weight': 7, 'gamma': 2.626329270646006e-08}. Best is trial 14 with value: 0.056178698111398716.\n"
     ]
    },
    {
     "name": "stderr",
     "output_type": "stream",
     "text": [
      "Best trial: 14. Best value: 0.0561787:  80%|████████  | 16/20 [17:01<03:14, 48.61s/it]"
     ]
    },
    {
     "name": "stdout",
     "output_type": "stream",
     "text": [
      "[I 2025-07-12 22:06:12,128] Trial 15 finished with value: 0.04371584699453552 and parameters: {'n_estimators': 324, 'max_depth': 4, 'learning_rate': 0.14920643617808255, 'subsample': 0.6043956756975085, 'colsample_bytree': 0.9851583965712964, 'reg_alpha': 0.0005224845319424447, 'reg_lambda': 1.320654555073657e-06, 'min_child_weight': 7, 'gamma': 2.302959673608843e-08}. Best is trial 14 with value: 0.056178698111398716.\n"
     ]
    },
    {
     "name": "stderr",
     "output_type": "stream",
     "text": [
      "Best trial: 14. Best value: 0.0561787:  85%|████████▌ | 17/20 [17:36<02:13, 44.64s/it]"
     ]
    },
    {
     "name": "stdout",
     "output_type": "stream",
     "text": [
      "[I 2025-07-12 22:06:47,527] Trial 16 finished with value: 0.03726997437689261 and parameters: {'n_estimators': 243, 'max_depth': 4, 'learning_rate': 0.058734268666402314, 'subsample': 0.9918585998724917, 'colsample_bytree': 0.9362148766913249, 'reg_alpha': 0.00044081640472577743, 'reg_lambda': 0.26849726389645745, 'min_child_weight': 7, 'gamma': 1.603443873037273e-07}. Best is trial 14 with value: 0.056178698111398716.\n"
     ]
    },
    {
     "name": "stderr",
     "output_type": "stream",
     "text": [
      "Best trial: 14. Best value: 0.0561787:  90%|█████████ | 18/20 [17:59<01:15, 37.98s/it]"
     ]
    },
    {
     "name": "stdout",
     "output_type": "stream",
     "text": [
      "[I 2025-07-12 22:07:09,987] Trial 17 finished with value: 0.027494331065759634 and parameters: {'n_estimators': 240, 'max_depth': 6, 'learning_rate': 0.25578634207532824, 'subsample': 0.720796288944333, 'colsample_bytree': 0.7852715380551614, 'reg_alpha': 8.927038528319232, 'reg_lambda': 0.0003639035663823041, 'min_child_weight': 5, 'gamma': 2.101508604735529e-06}. Best is trial 14 with value: 0.056178698111398716.\n"
     ]
    },
    {
     "name": "stderr",
     "output_type": "stream",
     "text": [
      "Best trial: 14. Best value: 0.0561787:  95%|█████████▌| 19/20 [20:08<01:05, 65.45s/it]"
     ]
    },
    {
     "name": "stdout",
     "output_type": "stream",
     "text": [
      "[I 2025-07-12 22:09:19,443] Trial 18 finished with value: 0.03636363636363636 and parameters: {'n_estimators': 887, 'max_depth': 4, 'learning_rate': 0.022444362409947183, 'subsample': 0.8970303337810757, 'colsample_bytree': 0.9527222822682909, 'reg_alpha': 0.05190925408128149, 'reg_lambda': 1.8664318314213132e-07, 'min_child_weight': 8, 'gamma': 1.4464162581716166e-05}. Best is trial 14 with value: 0.056178698111398716.\n"
     ]
    },
    {
     "name": "stderr",
     "output_type": "stream",
     "text": [
      "Best trial: 14. Best value: 0.0561787: 100%|██████████| 20/20 [21:16<00:00, 63.80s/it]"
     ]
    },
    {
     "name": "stdout",
     "output_type": "stream",
     "text": [
      "[I 2025-07-12 22:10:26,610] Trial 19 finished with value: 0.047474747474747475 and parameters: {'n_estimators': 528, 'max_depth': 3, 'learning_rate': 0.07570442988170792, 'subsample': 0.9433652849644489, 'colsample_bytree': 0.8388049554799257, 'reg_alpha': 0.00418029541435174, 'reg_lambda': 0.0005428366042137893, 'min_child_weight': 5, 'gamma': 7.796924348879079e-08}. Best is trial 14 with value: 0.056178698111398716.\n",
      "\n",
      "Optimization completed!\n",
      "Best F1 score: 0.0562\n",
      "\n",
      "Best parameters:\n",
      "  n_estimators: 292\n",
      "  max_depth: 4\n",
      "  learning_rate: 0.15060012076725598\n",
      "  subsample: 0.8952393368504931\n",
      "  colsample_bytree: 0.9570122700768573\n",
      "  reg_alpha: 0.00016118649078143831\n",
      "  reg_lambda: 1.310872921506698e-06\n",
      "  min_child_weight: 7\n",
      "  gamma: 2.626329270646006e-08\n"
     ]
    },
    {
     "name": "stderr",
     "output_type": "stream",
     "text": [
      "\n"
     ]
    }
   ],
   "source": [
    "def objective(trial):\n",
    "    \"\"\"Optuna objective function for hyperparameter optimization\"\"\"\n",
    "    \n",
    "    # Suggest hyperparameters\n",
    "    params = {\n",
    "        'n_estimators': trial.suggest_int('n_estimators', 100, 1000),\n",
    "        'max_depth': trial.suggest_int('max_depth', 3, 10),\n",
    "        'learning_rate': trial.suggest_float('learning_rate', 0.01, 0.3, log=True),\n",
    "        'subsample': trial.suggest_float('subsample', 0.6, 1.0),\n",
    "        'colsample_bytree': trial.suggest_float('colsample_bytree', 0.6, 1.0),\n",
    "        'reg_alpha': trial.suggest_float('reg_alpha', 1e-8, 10.0, log=True),\n",
    "        'reg_lambda': trial.suggest_float('reg_lambda', 1e-8, 10.0, log=True),\n",
    "        'min_child_weight': trial.suggest_int('min_child_weight', 1, 10),\n",
    "        'gamma': trial.suggest_float('gamma', 1e-8, 1.0, log=True),\n",
    "        'random_state': 42,\n",
    "        'eval_metric': 'logloss',\n",
    "        'verbosity': 0\n",
    "    }\n",
    "    \n",
    "    # Create model\n",
    "    model = xgb.XGBClassifier(**params)\n",
    "    \n",
    "    # Cross-validation with F1 score (primary metric for insurance claims)\n",
    "    cv_scores = cross_val_score(model, X_train, y_train, cv=cv, scoring='f1')\n",
    "    \n",
    "    return cv_scores.mean()\n",
    "\n",
    "# Create study\n",
    "study = optuna.create_study(\n",
    "    direction='maximize',\n",
    "    study_name='xgboost_claim_prediction',\n",
    "    sampler=optuna.samplers.TPESampler(seed=42)\n",
    ")\n",
    "\n",
    "print(\"Starting hyperparameter optimization...\")\n",
    "\n",
    "# Optimize\n",
    "study.optimize(objective, n_trials=20, show_progress_bar=True)\n",
    "\n",
    "print(f\"\\nOptimization completed!\")\n",
    "print(f\"Best F1 score: {study.best_value:.4f}\")\n",
    "print(f\"\\nBest parameters:\")\n",
    "for key, value in study.best_params.items():\n",
    "    print(f\"  {key}: {value}\")"
   ]
  },
  {
   "cell_type": "markdown",
   "metadata": {},
   "source": [
    "## 6. Final Model Training and Evaluation"
   ]
  },
  {
   "cell_type": "code",
   "execution_count": 9,
   "metadata": {},
   "outputs": [
    {
     "name": "stdout",
     "output_type": "stream",
     "text": [
      "FINAL MODEL PERFORMANCE\n",
      "==================================================\n",
      "Accuracy:  0.8208\n",
      "Precision: 0.1538\n",
      "Recall:    0.0588\n",
      "F1 Score:  0.0851\n",
      "ROC AUC:   0.5850\n",
      "\n",
      "Detailed Classification Report:\n",
      "              precision    recall  f1-score   support\n",
      "\n",
      "    No Claim       0.86      0.95      0.90       206\n",
      "       Claim       0.15      0.06      0.09        34\n",
      "\n",
      "    accuracy                           0.82       240\n",
      "   macro avg       0.51      0.50      0.49       240\n",
      "weighted avg       0.76      0.82      0.79       240\n",
      "\n",
      "\n",
      "Cross-Validation Results (Final Model):\n",
      "=============================================\n",
      "        F1: 0.0562 (+/- 0.0333)\n",
      " PRECISION: 0.1194 (+/- 0.0820)\n",
      "    RECALL: 0.0369 (+/- 0.0214)\n",
      "   ROC_AUC: 0.5204 (+/- 0.0626)\n"
     ]
    }
   ],
   "source": [
    "# Train final model with best parameters\n",
    "best_params = study.best_params.copy()\n",
    "best_params.update({\n",
    "    'random_state': 42,\n",
    "    'eval_metric': 'logloss',\n",
    "    'verbosity': 0\n",
    "})\n",
    "\n",
    "final_model = xgb.XGBClassifier(**best_params)\n",
    "final_model.fit(X_train, y_train)\n",
    "\n",
    "# Predictions\n",
    "y_pred = final_model.predict(X_test)\n",
    "y_pred_proba = final_model.predict_proba(X_test)[:, 1]\n",
    "\n",
    "# Comprehensive evaluation\n",
    "print(\"FINAL MODEL PERFORMANCE\")\n",
    "print(\"=\" * 50)\n",
    "\n",
    "# Classification metrics\n",
    "print(f\"Accuracy:  {accuracy_score(y_test, y_pred):.4f}\")\n",
    "print(f\"Precision: {precision_score(y_test, y_pred):.4f}\")\n",
    "print(f\"Recall:    {recall_score(y_test, y_pred):.4f}\")\n",
    "print(f\"F1 Score:  {f1_score(y_test, y_pred):.4f}\")\n",
    "print(f\"ROC AUC:   {roc_auc_score(y_test, y_pred_proba):.4f}\")\n",
    "\n",
    "# Detailed classification report\n",
    "print(f\"\\nDetailed Classification Report:\")\n",
    "print(classification_report(y_test, y_pred, target_names=['No Claim', 'Claim']))\n",
    "\n",
    "# Cross-validation with final model\n",
    "final_cv_scores = {\n",
    "    'f1': cross_val_score(final_model, X_train, y_train, cv=cv, scoring='f1'),\n",
    "    'precision': cross_val_score(final_model, X_train, y_train, cv=cv, scoring='precision'),\n",
    "    'recall': cross_val_score(final_model, X_train, y_train, cv=cv, scoring='recall'),\n",
    "    'roc_auc': cross_val_score(final_model, X_train, y_train, cv=cv, scoring='roc_auc')\n",
    "}\n",
    "\n",
    "print(f\"\\nCross-Validation Results (Final Model):\")\n",
    "print(\"=\" * 45)\n",
    "for metric, scores in final_cv_scores.items():\n",
    "    print(f\"{metric.upper():>10}: {scores.mean():.4f} (+/- {scores.std() * 2:.4f})\")"
   ]
  },
  {
   "cell_type": "markdown",
   "metadata": {},
   "source": [
    "## 7. Model Visualization and Analysis"
   ]
  },
  {
   "cell_type": "code",
   "execution_count": 10,
   "metadata": {},
   "outputs": [
    {
     "data": {
      "image/png": "[encoded data removed]",
      "text/plain": [
       "<Figure size 1500x1200 with 5 Axes>"
      ]
     },
     "metadata": {},
     "output_type": "display_data"
    }
   ],
   "source": [
    "# Create visualization plots\n",
    "fig, axes = plt.subplots(2, 2, figsize=(15, 12))\n",
    "\n",
    "# 1. Confusion Matrix\n",
    "cm = confusion_matrix(y_test, y_pred)\n",
    "sns.heatmap(cm, annot=True, fmt='d', cmap='Blues', \n",
    "            xticklabels=['No Claim', 'Claim'],\n",
    "            yticklabels=['No Claim', 'Claim'],\n",
    "            ax=axes[0,0])\n",
    "axes[0,0].set_title('Confusion Matrix')\n",
    "axes[0,0].set_ylabel('True Label')\n",
    "axes[0,0].set_xlabel('Predicted Label')\n",
    "\n",
    "# 2. ROC Curve\n",
    "fpr, tpr, _ = roc_curve(y_test, y_pred_proba)\n",
    "roc_auc = roc_auc_score(y_test, y_pred_proba)\n",
    "axes[0,1].plot(fpr, tpr, color='darkorange', lw=2, \n",
    "               label=f'ROC Curve (AUC = {roc_auc:.3f})')\n",
    "axes[0,1].plot([0, 1], [0, 1], color='navy', lw=2, linestyle='--')\n",
    "axes[0,1].set_xlim([0.0, 1.0])\n",
    "axes[0,1].set_ylim([0.0, 1.05])\n",
    "axes[0,1].set_xlabel('False Positive Rate')\n",
    "axes[0,1].set_ylabel('True Positive Rate')\n",
    "axes[0,1].set_title('ROC Curve')\n",
    "axes[0,1].legend(loc=\"lower right\")\n",
    "axes[0,1].grid(True)\n",
    "\n",
    "# 3. Precision-Recall Curve\n",
    "precision, recall, _ = precision_recall_curve(y_test, y_pred_proba)\n",
    "axes[1,0].plot(recall, precision, color='blue', lw=2)\n",
    "axes[1,0].set_xlabel('Recall')\n",
    "axes[1,0].set_ylabel('Precision')\n",
    "axes[1,0].set_title('Precision-Recall Curve')\n",
    "axes[1,0].grid(True)\n",
    "\n",
    "# 4. Prediction Probability Distribution\n",
    "axes[1,1].hist(y_pred_proba[y_test == 0], bins=30, alpha=0.7, \n",
    "               label='No Claim', color='blue', density=True)\n",
    "axes[1,1].hist(y_pred_proba[y_test == 1], bins=30, alpha=0.7, \n",
    "               label='Claim', color='red', density=True)\n",
    "axes[1,1].set_xlabel('Predicted Probability')\n",
    "axes[1,1].set_ylabel('Density')\n",
    "axes[1,1].set_title('Prediction Probability Distribution')\n",
    "axes[1,1].legend()\n",
    "axes[1,1].grid(True)\n",
    "\n",
    "plt.tight_layout()\n",
    "plt.savefig('model_evaluation_plots.png', dpi=300, bbox_inches='tight')\n",
    "plt.show()"
   ]
  },
  {
   "cell_type": "markdown",
   "metadata": {},
   "source": [
    "## 8. Feature Importance Analysis"
   ]
  },
  {
   "cell_type": "code",
   "execution_count": 11,
   "metadata": {},
   "outputs": [
    {
     "name": "stdout",
     "output_type": "stream",
     "text": [
      "TOP 15 MOST IMPORTANT FEATURES\n",
      "==================================================\n",
      " 1. total_harsh_events_mean             0.0440\n",
      " 2. harsh_acceleration_events_sum       0.0372\n",
      " 3. harsh_events_per_mile_mean          0.0356\n",
      " 4. max_speed_mph_mean                  0.0337\n",
      " 5. rush_hour_mean                      0.0315\n",
      " 6. phone_usage_seconds_mean            0.0301\n",
      " 7. harsh_braking_events_mean           0.0301\n",
      " 8. sharp_cornering_events_sum          0.0293\n",
      " 9. distraction_risk_score              0.0284\n",
      "10. duration_minutes_std                0.0283\n",
      "11. high_risk_time_mean                 0.0249\n",
      "12. harsh_events_per_minute_mean        0.0242\n",
      "13. data_quality_score_mean             0.0240\n",
      "14. short_trip_flag_mean                0.0235\n",
      "15. phone_usage_seconds_sum             0.0234\n"
     ]
    },
    {
     "data": {
      "image/png": "[encoded data removed]",
      "text/plain": [
       "<Figure size 1200x800 with 1 Axes>"
      ]
     },
     "metadata": {},
     "output_type": "display_data"
    },
    {
     "name": "stdout",
     "output_type": "stream",
     "text": [
      "\n",
      "✓ Feature importance saved to: feature_importance.csv\n"
     ]
    }
   ],
   "source": [
    "# Get feature importance\n",
    "feature_importance = pd.DataFrame({\n",
    "    'feature': X_train.columns,\n",
    "    'importance': final_model.feature_importances_\n",
    "}).sort_values('importance', ascending=False)\n",
    "\n",
    "# Display top features\n",
    "print(\"TOP 15 MOST IMPORTANT FEATURES\")\n",
    "print(\"=\" * 50)\n",
    "for i, (_, row) in enumerate(feature_importance.head(15).iterrows(), 1):\n",
    "    print(f\"{i:2d}. {row['feature']:<35} {row['importance']:.4f}\")\n",
    "\n",
    "# Plot feature importance\n",
    "plt.figure(figsize=(12, 8))\n",
    "top_features = feature_importance.head(20)\n",
    "plt.barh(range(len(top_features)), top_features['importance'])\n",
    "plt.yticks(range(len(top_features)), top_features['feature'])\n",
    "plt.xlabel('Feature Importance')\n",
    "plt.title('Top 20 Feature Importances - XGBoost Claim Prediction Model')\n",
    "plt.gca().invert_yaxis()\n",
    "plt.grid(axis='x', alpha=0.3)\n",
    "plt.tight_layout()\n",
    "plt.savefig('feature_importance.png', dpi=300, bbox_inches='tight')\n",
    "plt.show()\n",
    "\n",
    "# Save feature importance\n",
    "feature_importance.to_csv('feature_importance.csv', index=False)\n",
    "print(f\"\\n✓ Feature importance saved to: feature_importance.csv\")"
   ]
  },
  {
   "cell_type": "markdown",
   "metadata": {},
   "source": [
    "## 9. Business Insights and Risk Segmentation"
   ]
  },
  {
   "cell_type": "code",
   "execution_count": 12,
   "metadata": {},
   "outputs": [
    {
     "name": "stdout",
     "output_type": "stream",
     "text": [
      "RISK SEGMENTATION ANALYSIS\n",
      "==================================================\n",
      "                Driver_Count  Actual_Claims  Claim_Rate  Avg_Predicted_Prob  \\\n",
      "risk_segment                                                                  \n",
      "Low Risk                 166             18      0.1084              0.0318   \n",
      "Medium Risk               38              7      0.1842              0.1440   \n",
      "High Risk                 11              3      0.2727              0.2383   \n",
      "Very High Risk            25              6      0.2400              0.5359   \n",
      "\n",
      "                Std_Predicted_Prob  \n",
      "risk_segment                        \n",
      "Low Risk                    0.0275  \n",
      "Medium Risk                 0.0305  \n",
      "High Risk                   0.0269  \n",
      "Very High Risk              0.1847  \n",
      "\n",
      "Overall claim rate: 0.1417\n",
      "\n",
      "Lift by segment:\n",
      "  Low Risk: 0.77x\n",
      "  Medium Risk: 1.30x\n",
      "  High Risk: 1.92x\n",
      "  Very High Risk: 1.69x\n"
     ]
    }
   ],
   "source": [
    "# Create risk segments based on predicted probabilities\n",
    "test_results = pd.DataFrame({\n",
    "    'driver_id': df.loc[X_test.index, 'driver_id'],\n",
    "    'actual_claim': y_test,\n",
    "    'predicted_claim': y_pred,\n",
    "    'claim_probability': y_pred_proba\n",
    "})\n",
    "\n",
    "# Define risk segments\n",
    "test_results['risk_segment'] = pd.cut(\n",
    "    test_results['claim_probability'],\n",
    "    bins=[0, 0.1, 0.2, 0.3, 1.0],\n",
    "    labels=['Low Risk', 'Medium Risk', 'High Risk', 'Very High Risk']\n",
    ")\n",
    "\n",
    "# Analyze segments\n",
    "segment_analysis = test_results.groupby('risk_segment').agg({\n",
    "    'driver_id': 'count',\n",
    "    'actual_claim': ['sum', 'mean'],\n",
    "    'claim_probability': ['mean', 'std']\n",
    "}).round(4)\n",
    "\n",
    "segment_analysis.columns = ['Driver_Count', 'Actual_Claims', 'Claim_Rate', \n",
    "                          'Avg_Predicted_Prob', 'Std_Predicted_Prob']\n",
    "\n",
    "print(\"RISK SEGMENTATION ANALYSIS\")\n",
    "print(\"=\" * 50)\n",
    "print(segment_analysis)\n",
    "\n",
    "# Calculate lift\n",
    "overall_claim_rate = test_results['actual_claim'].mean()\n",
    "segment_analysis['Lift'] = segment_analysis['Claim_Rate'] / overall_claim_rate\n",
    "\n",
    "print(f\"\\nOverall claim rate: {overall_claim_rate:.4f}\")\n",
    "print(f\"\\nLift by segment:\")\n",
    "for segment, lift in segment_analysis['Lift'].items():\n",
    "    print(f\"  {segment}: {lift:.2f}x\")"
   ]
  },
  {
   "cell_type": "markdown",
   "metadata": {},
   "source": [
    "## 10. Model Persistence and Summary"
   ]
  },
  {
   "cell_type": "code",
   "execution_count": 13,
   "metadata": {},
   "outputs": [
    {
     "name": "stdout",
     "output_type": "stream",
     "text": [
      "MODEL TRAINING COMPLETED SUCCESSFULLY\n",
      "==================================================\n",
      "Files created:\n",
      "  1. xgboost_claim_model.pkl - Trained XGBoost model\n",
      "  2. model_metadata.json - Model configuration and performance\n",
      "  3. feature_importance.csv - Feature importance rankings\n",
      "  4. test_predictions.csv - Test set predictions\n",
      "  5. risk_segment_analysis.csv - Risk segmentation analysis\n",
      "  6. model_evaluation_plots.png - Performance visualizations\n",
      "  7. feature_importance.png - Feature importance plot\n",
      "\n",
      "Model Performance Summary:\n",
      "  • F1 Score: 0.0851\n",
      "  • ROC AUC: 0.5850\n",
      "  • Precision: 0.1538\n",
      "  • Recall: 0.0588\n",
      "\n",
      "Ready for next notebook: Premium Calculation and Risk Pricing\n"
     ]
    }
   ],
   "source": [
    "# Save the trained model\n",
    "model_filename = 'xgboost_claim_model.pkl'\n",
    "joblib.dump(final_model, model_filename)\n",
    "\n",
    "# Save model metadata\n",
    "model_metadata = {\n",
    "    'model_type': 'XGBoost Classifier',\n",
    "    'target': 'has_claim',\n",
    "    'features': list(X_train.columns),\n",
    "    'n_features': len(X_train.columns),\n",
    "    'training_samples': len(X_train),\n",
    "    'test_samples': len(X_test),\n",
    "    'cv_folds': cv_folds,\n",
    "    'best_params': study.best_params,\n",
    "    'performance': {\n",
    "        'test_f1': f1_score(y_test, y_pred),\n",
    "        'test_precision': precision_score(y_test, y_pred),\n",
    "        'test_recall': recall_score(y_test, y_pred),\n",
    "        'test_roc_auc': roc_auc_score(y_test, y_pred_proba),\n",
    "        'cv_f1_mean': final_cv_scores['f1'].mean(),\n",
    "        'cv_f1_std': final_cv_scores['f1'].std()\n",
    "    },\n",
    "    'timestamp': datetime.now().isoformat()\n",
    "}\n",
    "\n",
    "# Save metadata\n",
    "import json\n",
    "with open('model_metadata.json', 'w') as f:\n",
    "    json.dump(model_metadata, f, indent=2)\n",
    "\n",
    "# Save test results\n",
    "test_results.to_csv('test_predictions.csv', index=False)\n",
    "segment_analysis.to_csv('risk_segment_analysis.csv')\n",
    "\n",
    "print(\"MODEL TRAINING COMPLETED SUCCESSFULLY\")\n",
    "print(\"=\" * 50)\n",
    "print(f\"Files created:\")\n",
    "print(f\"  1. {model_filename} - Trained XGBoost model\")\n",
    "print(f\"  2. model_metadata.json - Model configuration and performance\")\n",
    "print(f\"  3. feature_importance.csv - Feature importance rankings\")\n",
    "print(f\"  4. test_predictions.csv - Test set predictions\")\n",
    "print(f\"  5. risk_segment_analysis.csv - Risk segmentation analysis\")\n",
    "print(f\"  6. model_evaluation_plots.png - Performance visualizations\")\n",
    "print(f\"  7. feature_importance.png - Feature importance plot\")\n",
    "\n",
    "print(f\"\\nModel Performance Summary:\")\n",
    "print(f\"  • F1 Score: {f1_score(y_test, y_pred):.4f}\")\n",
    "print(f\"  • ROC AUC: {roc_auc_score(y_test, y_pred_proba):.4f}\")\n",
    "print(f\"  • Precision: {precision_score(y_test, y_pred):.4f}\")\n",
    "print(f\"  • Recall: {recall_score(y_test, y_pred):.4f}\")\n",
    "\n",
    "print(f\"\\nReady for next notebook: Premium Calculation and Risk Pricing\")"
   ]
  }
 ],
 "metadata": {
  "kernelspec": {
   "display_name": "Python 3",
   "language": "python",
   "name": "python3"
  },
  "language_info": {
   "codemirror_mode": {
    "name": "ipython",
    "version": 3
   },
   "file_extension": ".py",
   "mimetype": "text/x-python",
   "name": "python",
   "nbconvert_exporter": "python",
   "pygments_lexer": "ipython3",
   "version": "3.12.10"
  }
 },
 "nbformat": 4,
 "nbformat_minor": 4
}
