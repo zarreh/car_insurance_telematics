{
 "cells": [
  {
   "cell_type": "code",
   "execution_count": 4,
   "id": "45fb4323",
   "metadata": {},
   "outputs": [
    {
     "name": "stdout",
     "output_type": "stream",
     "text": [
      "Current working directory: /home/alireza/projects/car_insurance_telematics/notebooks\n",
      "New working directory: /home/alireza/projects/car_insurance_telematics\n"
     ]
    }
   ],
   "source": [
    "import os\n",
    "\n",
    "# Get the current working directory\n",
    "current_directory = os.getcwd()\n",
    "print(f\"Current working directory: {current_directory}\")\n",
    "\n",
    "# Change the working directory\n",
    "# Replace 'your/new/directory/path' with the actual path you want to change to\n",
    "try:\n",
    "    os.chdir('/home/alireza/projects/car_insurance_telematics') # Example: changing to the /tmp directory\n",
    "    new_directory = os.getcwd()\n",
    "    print(f\"New working directory: {new_directory}\")\n",
    "except FileNotFoundError:\n",
    "    print(\"The specified directory does not exist.\")\n",
    "except Exception as e:\n",
    "    print(f\"An error occurred: {e}\")"
   ]
  },
  {
   "cell_type": "code",
   "execution_count": 8,
   "id": "a45ded82",
   "metadata": {},
   "outputs": [
    {
     "name": "stderr",
     "output_type": "stream",
     "text": [
      "INFO:car_insurance_telematics.modeling.feature_engineer:FeatureEngineer initialized\n",
      "INFO:car_insurance_telematics.modeling.model_registry:Model Registry initialized at model_registry\n",
      "INFO:car_insurance_telematics.modeling.model_registry:Model loaded: claim_probability v12 from model_registry/claim_probability/v12/model.pkl\n",
      "INFO:car_insurance_telematics.modeling.inference_pipeline:Loaded claim probability model (version: latest)\n",
      "INFO:car_insurance_telematics.modeling.model_registry:Model loaded: claim_severity v9 from model_registry/claim_severity/v9/model.pkl\n",
      "INFO:car_insurance_telematics.modeling.inference_pipeline:Loaded claim severity model (version: latest)\n",
      "INFO:car_insurance_telematics.modeling.inference_pipeline:Inference pipeline initialized\n",
      "INFO:car_insurance_telematics.modeling.inference_pipeline:Loading data from temp_input.csv\n",
      "INFO:car_insurance_telematics.modeling.inference_pipeline:Making predictions for 1 trips\n",
      "INFO:car_insurance_telematics.modeling.feature_engineer:Creating features for 1 records\n",
      "INFO:car_insurance_telematics.modeling.feature_engineer:Created 57 features\n"
     ]
    },
    {
     "ename": "AttributeError",
     "evalue": "'dict' object has no attribute 'predict_proba'",
     "output_type": "error",
     "traceback": [
      "\u001b[31m---------------------------------------------------------------------------\u001b[39m",
      "\u001b[31mAttributeError\u001b[39m                            Traceback (most recent call last)",
      "\u001b[36mCell\u001b[39m\u001b[36m \u001b[39m\u001b[32mIn[8]\u001b[39m\u001b[32m, line 38\u001b[39m\n\u001b[32m     35\u001b[39m df.to_csv(\u001b[33m\"\u001b[39m\u001b[33mtemp_input.csv\u001b[39m\u001b[33m\"\u001b[39m, index=\u001b[38;5;28;01mFalse\u001b[39;00m)\n\u001b[32m     37\u001b[39m \u001b[38;5;66;03m# Run inference\u001b[39;00m\n\u001b[32m---> \u001b[39m\u001b[32m38\u001b[39m result_file = \u001b[43mpipeline\u001b[49m\u001b[43m.\u001b[49m\u001b[43mpredict_from_file\u001b[49m\u001b[43m(\u001b[49m\u001b[33;43m'\u001b[39;49m\u001b[33;43mtemp_input.csv\u001b[39;49m\u001b[33;43m'\u001b[39;49m\u001b[43m)\u001b[49m\n\u001b[32m     40\u001b[39m \u001b[38;5;66;03m# Read results\u001b[39;00m\n\u001b[32m     41\u001b[39m \u001b[38;5;28;01mwith\u001b[39;00m \u001b[38;5;28mopen\u001b[39m(result_file, \u001b[33m\"\u001b[39m\u001b[33mr\u001b[39m\u001b[33m\"\u001b[39m) \u001b[38;5;28;01mas\u001b[39;00m f:\n",
      "\u001b[36mFile \u001b[39m\u001b[32m~/projects/car_insurance_telematics/car_insurance_telematics/modeling/inference_pipeline.py:168\u001b[39m, in \u001b[36mInferencePipeline.predict_from_file\u001b[39m\u001b[34m(self, input_file, output_file, include_uncertainty)\u001b[39m\n\u001b[32m    165\u001b[39m data = pd.read_csv(input_file)\n\u001b[32m    167\u001b[39m \u001b[38;5;66;03m# Make predictions\u001b[39;00m\n\u001b[32m--> \u001b[39m\u001b[32m168\u001b[39m predictions = \u001b[38;5;28;43mself\u001b[39;49m\u001b[43m.\u001b[49m\u001b[43mpredict_batch\u001b[49m\u001b[43m(\u001b[49m\u001b[43mdata\u001b[49m\u001b[43m,\u001b[49m\u001b[43m \u001b[49m\u001b[43minclude_uncertainty\u001b[49m\u001b[43m)\u001b[49m\n\u001b[32m    170\u001b[39m \u001b[38;5;66;03m# Convert to DataFrame\u001b[39;00m\n\u001b[32m    171\u001b[39m predictions_df = pd.DataFrame(predictions)\n",
      "\u001b[36mFile \u001b[39m\u001b[32m~/projects/car_insurance_telematics/car_insurance_telematics/modeling/inference_pipeline.py:111\u001b[39m, in \u001b[36mInferencePipeline.predict_batch\u001b[39m\u001b[34m(self, data, include_uncertainty)\u001b[39m\n\u001b[32m    108\u001b[39m features = \u001b[38;5;28mself\u001b[39m.feature_engineer.create_features(data)\n\u001b[32m    110\u001b[39m \u001b[38;5;66;03m# Make claim probability predictions\u001b[39;00m\n\u001b[32m--> \u001b[39m\u001b[32m111\u001b[39m claim_probabilities = \u001b[38;5;28;43mself\u001b[39;49m\u001b[43m.\u001b[49m\u001b[43mclaim_prob_model\u001b[49m\u001b[43m.\u001b[49m\u001b[43mpredict_proba\u001b[49m(features)[:, \u001b[32m1\u001b[39m]\n\u001b[32m    113\u001b[39m \u001b[38;5;66;03m# Make claim severity predictions\u001b[39;00m\n\u001b[32m    114\u001b[39m \u001b[38;5;28;01mif\u001b[39;00m include_uncertainty \u001b[38;5;129;01mand\u001b[39;00m \u001b[38;5;28mhasattr\u001b[39m(\u001b[38;5;28mself\u001b[39m.claim_severity_model, \u001b[33m\"\u001b[39m\u001b[33mpredict_with_uncertainty\u001b[39m\u001b[33m\"\u001b[39m):\n",
      "\u001b[31mAttributeError\u001b[39m: 'dict' object has no attribute 'predict_proba'"
     ]
    }
   ],
   "source": [
    "from car_insurance_telematics.modeling.inference_pipeline import InferencePipeline\n",
    "import pandas as pd\n",
    "import json\n",
    "\n",
    "# Initialize pipeline\n",
    "pipeline = InferencePipeline(\n",
    "    model_registry_dir=\"model_registry\",\n",
    ")\n",
    "\n",
    "# Define single trip data\n",
    "trip_data = {\n",
    "    \"driver_id\": \"D_TEST\",\n",
    "    \"trip_duration_minutes\": 35,\n",
    "    \"trip_distance_km\": 30,\n",
    "    \"avg_speed_kmh\": 51,\n",
    "    \"max_speed_kmh\": 75,\n",
    "    \"hard_braking_count\": 2,\n",
    "    \"hard_acceleration_count\": 1,\n",
    "    \"sharp_turn_count\": 0,\n",
    "    \"night_driving_minutes\": 0,\n",
    "    \"phone_use_minutes\": 0,\n",
    "    \"hour_of_day\": 10,\n",
    "    \"day_of_week\": 2,\n",
    "    \"is_weekend\": 0,\n",
    "    \"is_rush_hour\": 0,\n",
    "    \"adverse_weather\": 0,\n",
    "    \"wet_road\": 0,\n",
    "    \"traffic_density\": 0.4,\n",
    "    \"speed_variance\": 8,\n",
    "    \"speed_above_limit_pct\": 0.05,\n",
    "}\n",
    "\n",
    "# Convert to DataFrame and save\n",
    "df = pd.DataFrame([trip_data])\n",
    "df.to_csv(\"temp_input.csv\", index=False)\n",
    "\n",
    "# Run inference\n",
    "result_file = pipeline.predict_from_file('temp_input.csv')\n",
    "\n",
    "# Read results\n",
    "with open(result_file, \"r\") as f:\n",
    "    results = json.load(f)\n",
    "    prediction = results[\"predictions\"][0]\n",
    "\n",
    "print(f\"Claim Probability: {prediction['claim_probability']:.2%}\")\n",
    "print(f\"Expected Claim Amount: ${prediction['expected_claim_amount']:.2f}\")\n",
    "print(f\"Risk Category: {prediction['risk_category']}\")"
   ]
  }
 ],
 "metadata": {
  "kernelspec": {
   "display_name": "Python 3",
   "language": "python",
   "name": "python3"
  },
  "language_info": {
   "codemirror_mode": {
    "name": "ipython",
    "version": 3
   },
   "file_extension": ".py",
   "mimetype": "text/x-python",
   "name": "python",
   "nbconvert_exporter": "python",
   "pygments_lexer": "ipython3",
   "version": "3.12.10"
  }
 },
 "nbformat": 4,
 "nbformat_minor": 5
}
